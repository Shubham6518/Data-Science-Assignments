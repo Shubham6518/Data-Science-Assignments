{
 "cells": [
  {
   "cell_type": "code",
   "execution_count": 1,
   "id": "f2acf9c4-6a8b-4ac7-92eb-f0a233073478",
   "metadata": {},
   "outputs": [
    {
     "data": {
      "text/plain": [
       "\"\\nQ1. What is Abstraction in OOps? Explain with an example.\\nAns. Abstraction in OOPs means hiding the unnecessary data from the user, into abstract classes.\\n     Example:- When we go on a website we see only those functionalities that are meant to be accessible to the user, and\\n     can't access the backend parts of the website as it is absatracted from the users and restricted to the developers and\\n     the team.\\n\""
      ]
     },
     "execution_count": 1,
     "metadata": {},
     "output_type": "execute_result"
    }
   ],
   "source": [
    "'''\n",
    "Q1. What is Abstraction in OOps? Explain with an example.\n",
    "Ans. Abstraction in OOPs means hiding the unnecessary data from the user, into abstract classes.\n",
    "     Example:- When we go on a website we see only those functionalities that are meant to be accessible to the user, and\n",
    "     can't access the backend parts of the website as it is absatracted from the users and restricted to the developers and\n",
    "     the team.\n",
    "'''"
   ]
  },
  {
   "cell_type": "code",
   "execution_count": 1,
   "id": "65ad05e9-0146-46d4-9ae9-494d4f304287",
   "metadata": {
    "tags": []
   },
   "outputs": [
    {
     "data": {
      "text/plain": [
       "'\\nQ2. Differentiate between Abstraction and Encapsulation. Explain with an example.\\n    Abstraction:- 1. Abstraction is used for hiding the unwanted data and giving relevant\\n                    data.\\n                  2. It helps you focus on what the object does instead of how it does it.\\n                  3. Eg:- We can only see the outer body of the phone inner parts that make\\n                         it work are kept hidden.\\n    \\n    Encapsulation:- 1. Encapsulation means hiding the data into a single unit to protect \\n                       the data from the outside world.\\n                    2. It is basically hiding details into classes.\\n                    3. Eg:- When ever we want to use a functionality of any app those\\n                            stuff are kept encapsulated into the data file of that app\\n                            and can only be accessed by the one who has access to it.\\n'"
      ]
     },
     "execution_count": 1,
     "metadata": {},
     "output_type": "execute_result"
    }
   ],
   "source": [
    "'''\n",
    "Q2. Differentiate between Abstraction and Encapsulation. Explain with an example.\n",
    "    Abstraction:- 1. Abstraction is used for hiding the unwanted data and giving relevant\n",
    "                    data.\n",
    "                  2. It helps you focus on what the object does instead of how it does it.\n",
    "                  3. Eg:- We can only see the outer body of the phone inner parts that make\n",
    "                         it work are kept hidden.\n",
    "    \n",
    "    Encapsulation:- 1. Encapsulation means hiding the data into a single unit to protect \n",
    "                       the data from the outside world.\n",
    "                    2. It is basically hiding details into classes.\n",
    "                    3. Eg:- When ever we want to use a functionality of any app those\n",
    "                            stuff are kept encapsulated into the data file of that app\n",
    "                            and can only be accessed by the one who has access to it.\n",
    "'''"
   ]
  },
  {
   "cell_type": "code",
   "execution_count": 2,
   "id": "b4802909-80e8-4a0d-89c9-edc5c3417a01",
   "metadata": {},
   "outputs": [
    {
     "data": {
      "text/plain": [
       "\"\\nQ3. What is abc module in python? Why is it used?\\nAns.The 'abc' module in Python library provides the infrastructure for defining custom abstract base classes. 'abc' works\\n    by marking methods of the base class as abstract. This is done by @absttractmethod decorator. \\n    The main goal of the abstract base class is to provide a standardized way to test whether an object adheres to a given \\n    specification. It can also prevent any attempt to instantiate a subclass that doesn’t override a particular method in \\n    the superclass. And finally, using an abstract class, a class can derive identity from another class without any object\\n    inheritance.\\n\""
      ]
     },
     "execution_count": 2,
     "metadata": {},
     "output_type": "execute_result"
    }
   ],
   "source": [
    "'''\n",
    "Q3. What is abc module in python? Why is it used?\n",
    "Ans.The 'abc' module in Python library provides the infrastructure for defining custom abstract base classes. 'abc' works\n",
    "    by marking methods of the base class as abstract. This is done by @absttractmethod decorator. \n",
    "    The main goal of the abstract base class is to provide a standardized way to test whether an object adheres to a given \n",
    "    specification. It can also prevent any attempt to instantiate a subclass that doesn’t override a particular method in \n",
    "    the superclass. And finally, using an abstract class, a class can derive identity from another class without any object\n",
    "    inheritance.\n",
    "'''"
   ]
  },
  {
   "cell_type": "code",
   "execution_count": 3,
   "id": "819967dc-d542-4e5c-83fa-5f9c28ad7f29",
   "metadata": {},
   "outputs": [
    {
     "data": {
      "text/plain": [
       "'\\nQ4. How can we achieve data abstraction?\\nAns. Data Abstraction in Python can be achieved through creating abstract classes and inheriting them later. \\n     The classes that cannot be instantiated. This means that we cannot create objects of an abstract class and these are\\n     only meant to be inherited. Then an object of the derived class is used to access the features of the base class. \\n     These are specifically defined to lay a foundation of other classes that exhibit common behavior or characteristics.\\n'"
      ]
     },
     "execution_count": 3,
     "metadata": {},
     "output_type": "execute_result"
    }
   ],
   "source": [
    "'''\n",
    "Q4. How can we achieve data abstraction?\n",
    "Ans. Data Abstraction in Python can be achieved through creating abstract classes and inheriting them later. \n",
    "     The classes that cannot be instantiated. This means that we cannot create objects of an abstract class and these are\n",
    "     only meant to be inherited. Then an object of the derived class is used to access the features of the base class. \n",
    "     These are specifically defined to lay a foundation of other classes that exhibit common behavior or characteristics.\n",
    "'''"
   ]
  },
  {
   "cell_type": "code",
   "execution_count": 4,
   "id": "9994f8ce-2ba6-4132-b1fa-b9ae1b2a5fd6",
   "metadata": {},
   "outputs": [
    {
     "data": {
      "text/plain": [
       "'\\nQ5. Can we create an instance of an abstract class? Explain your answer.\\nAns. Abstract classes are not complete, as they may have some methods that are not defined. So we cannot create an instance\\n     or object of an abstract class. Can you create an instance of an abstract class Python?\\n     An abstract class is a class, but not one you can create objects from directly. Its purpose is to define how other \\n     classes should look like, i.e. what methods and properties they are expected to have.\\n'"
      ]
     },
     "execution_count": 4,
     "metadata": {},
     "output_type": "execute_result"
    }
   ],
   "source": [
    "'''\n",
    "Q5. Can we create an instance of an abstract class? Explain your answer.\n",
    "Ans. Abstract classes are not complete, as they may have some methods that are not defined. So we cannot create an instance\n",
    "     or object of an abstract class. Can you create an instance of an abstract class Python?\n",
    "     An abstract class is a class, but not one you can create objects from directly. Its purpose is to define how other \n",
    "     classes should look like, i.e. what methods and properties they are expected to have.\n",
    "'''"
   ]
  },
  {
   "cell_type": "code",
   "execution_count": null,
   "id": "84427f27-6fc3-4ad1-b480-33d17f05b58a",
   "metadata": {},
   "outputs": [],
   "source": []
  }
 ],
 "metadata": {
  "kernelspec": {
   "display_name": "Python 3 (ipykernel)",
   "language": "python",
   "name": "python3"
  },
  "language_info": {
   "codemirror_mode": {
    "name": "ipython",
    "version": 3
   },
   "file_extension": ".py",
   "mimetype": "text/x-python",
   "name": "python",
   "nbconvert_exporter": "python",
   "pygments_lexer": "ipython3",
   "version": "3.10.8"
  }
 },
 "nbformat": 4,
 "nbformat_minor": 5
}
