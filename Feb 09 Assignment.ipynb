{
 "cells": [
  {
   "cell_type": "code",
   "execution_count": 5,
   "id": "1be2f44e-8ce0-4d2e-a8e9-d326ba4e061f",
   "metadata": {},
   "outputs": [
    {
     "name": "stdout",
     "output_type": "stream",
     "text": [
      "25\n",
      "141\n",
      "25\n"
     ]
    }
   ],
   "source": [
    "'''\n",
    "Q1, Create a vehicle class with an init method having instance variables as name_of_vehicle, max_speed\n",
    "and average_of_vehicle.\n",
    "'''\n",
    "\n",
    "class vehicle:\n",
    "    def __init__(self, name_of_vehicle, max_speed, average_of_vehicle):\n",
    "        self.name_of_vehicle = name_of_vehicle\n",
    "        self.max_speed = max_speed\n",
    "        self.average_of_vehicle = average_of_vehicle\n",
    "        \n",
    "v1 = vehicle('Volvo', 141, 25)\n",
    "\n",
    "print(v1.average_of_vehicle)\n",
    "print(v1.max_speed)\n",
    "print(v1.average_of_vehicle)"
   ]
  },
  {
   "cell_type": "code",
   "execution_count": 23,
   "id": "e8db5dde-d80c-4183-a7bf-b00c732fda16",
   "metadata": {},
   "outputs": [
    {
     "name": "stdout",
     "output_type": "stream",
     "text": [
      "The name of this car is:  XUV 700\n",
      "The seating capacity of this car is:  7\n"
     ]
    }
   ],
   "source": [
    "'''\n",
    "Q2. Create a child class car from the vehicle class created in Que 1, which will inherit the vehicle class.\n",
    "Create a method named seating_capacity which takes capacity as an argument and returns the name of\n",
    "the vehicle and its seating capacity.\n",
    "'''\n",
    "\n",
    "class child(vehicle):\n",
    "    def __init__(self, car_name):\n",
    "        self.car_name = car_name\n",
    "        \n",
    "    def seating_capacity(self, capacity):\n",
    "        print('The name of this car is: ', self.car_name)\n",
    "        print('The seating capacity of this car is: ', capacity)\n",
    "        \n",
    "c1 = child('XUV 700')\n",
    "c1.seating_capacity(7)\n"
   ]
  },
  {
   "cell_type": "code",
   "execution_count": 26,
   "id": "f7984a72-843b-4bb7-bb08-02bc44441f02",
   "metadata": {},
   "outputs": [
    {
     "name": "stdout",
     "output_type": "stream",
     "text": [
      "This is method1.\n",
      "This is method2.\n",
      "This is method3.\n"
     ]
    }
   ],
   "source": [
    "'''\n",
    "Q3. What is multiple inheritance? Write a python code to demonstrate multiple inheritance.\n",
    "'''\n",
    "\n",
    "class test1:\n",
    "    def method1(self):\n",
    "        print(\"This is method1.\")\n",
    "\n",
    "class test2:\n",
    "    def method2(self):\n",
    "        print(\"This is method2.\")\n",
    "        \n",
    "class test3(test1, test2):\n",
    "    def method3(self):\n",
    "        print(\"This is method3.\")\n",
    "        \n",
    "t1 = test3()\n",
    "t1.method1()\n",
    "t1.method2()\n",
    "t1.method3()\n"
   ]
  },
  {
   "cell_type": "code",
   "execution_count": 29,
   "id": "0a8c2b40-c21a-4ec8-924e-e94aaf7aa10c",
   "metadata": {},
   "outputs": [],
   "source": [
    "'''\n",
    "Q4. What are getter and setter in python? Create a class and create a getter and a setter method in this\n",
    "class.\n",
    "Ans:- Getter and Setter function are used for private variables.\n",
    "      Setter function is used for assigning the value to the private variable.\n",
    "      Getter function is used for accessing the private variable.\n",
    "'''\n",
    "\n",
    "class Test:\n",
    "    def __init__(self, name, no):\n",
    "        self.name = name\n",
    "        self.__no = no\n",
    "        \n",
    "# getter function        \n",
    "    @property\n",
    "    def no_access(self):\n",
    "        return self.__no\n",
    "      \n",
    "# setter function\n",
    "    @no_access.setter\n",
    "    def no_setter(self, no1):\n",
    "        self.__no = no1\n",
    "    \n"
   ]
  },
  {
   "cell_type": "code",
   "execution_count": 30,
   "id": "4b58598d-f1fd-439a-886b-add8afe61176",
   "metadata": {},
   "outputs": [],
   "source": [
    "t1 = Test(\"Test1\", 1001)"
   ]
  },
  {
   "cell_type": "code",
   "execution_count": 31,
   "id": "ba353318-c433-4cac-a13a-370003183676",
   "metadata": {},
   "outputs": [
    {
     "data": {
      "text/plain": [
       "'Test1'"
      ]
     },
     "execution_count": 31,
     "metadata": {},
     "output_type": "execute_result"
    }
   ],
   "source": [
    "t1.name"
   ]
  },
  {
   "cell_type": "code",
   "execution_count": 32,
   "id": "f5cee6e6-f12d-40de-baaa-3c58057faeb0",
   "metadata": {},
   "outputs": [
    {
     "data": {
      "text/plain": [
       "1001"
      ]
     },
     "execution_count": 32,
     "metadata": {},
     "output_type": "execute_result"
    }
   ],
   "source": [
    "t1.no_access"
   ]
  },
  {
   "cell_type": "code",
   "execution_count": 34,
   "id": "37180247-005b-46ab-852c-87288cabf5bb",
   "metadata": {},
   "outputs": [],
   "source": [
    "t1.no_setter=1100"
   ]
  },
  {
   "cell_type": "code",
   "execution_count": 35,
   "id": "4a09b00e-72c3-4492-899f-7f484180aa9c",
   "metadata": {},
   "outputs": [
    {
     "data": {
      "text/plain": [
       "1100"
      ]
     },
     "execution_count": 35,
     "metadata": {},
     "output_type": "execute_result"
    }
   ],
   "source": [
    "t1.no_access"
   ]
  },
  {
   "cell_type": "code",
   "execution_count": 40,
   "id": "b18ab44f-43ff-4a93-bb7a-5601162ef066",
   "metadata": {},
   "outputs": [
    {
     "name": "stdout",
     "output_type": "stream",
     "text": [
      "This is parent class method.\n",
      "This is child class method.\n"
     ]
    }
   ],
   "source": [
    "'''\n",
    "Q5.What is method overriding in python? Write a python code to demonstrate method overriding.\n",
    "Ans. Method overriding is a feature of object-oriented programming languages where the subclass \n",
    "     or child class can provide the program with specific characteristics or a specific implementation\n",
    "     process of data provided that are already defined in the parent class or superclass.\n",
    "'''\n",
    "\n",
    "class parent:\n",
    "    def show(self):\n",
    "        print('This is parent class method.')\n",
    "        \n",
    "class child(parent):\n",
    "    def show(self):\n",
    "        print('This is child class method.')\n",
    "\n",
    "p1 = parent()\n",
    "c1 = child()\n",
    "\n",
    "p1.show()\n",
    "c1.show()"
   ]
  },
  {
   "cell_type": "code",
   "execution_count": null,
   "id": "8f32cf13-0e87-4ccc-8dbf-5832d3144476",
   "metadata": {},
   "outputs": [],
   "source": []
  }
 ],
 "metadata": {
  "kernelspec": {
   "display_name": "Python 3 (ipykernel)",
   "language": "python",
   "name": "python3"
  },
  "language_info": {
   "codemirror_mode": {
    "name": "ipython",
    "version": 3
   },
   "file_extension": ".py",
   "mimetype": "text/x-python",
   "name": "python",
   "nbconvert_exporter": "python",
   "pygments_lexer": "ipython3",
   "version": "3.10.8"
  }
 },
 "nbformat": 4,
 "nbformat_minor": 5
}
