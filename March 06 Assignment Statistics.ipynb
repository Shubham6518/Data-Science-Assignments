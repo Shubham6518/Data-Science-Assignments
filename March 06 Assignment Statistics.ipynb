{
 "cells": [
  {
   "cell_type": "code",
   "execution_count": 4,
   "id": "33717139-73f0-4630-be66-d7b5041dba6d",
   "metadata": {},
   "outputs": [],
   "source": [
    "'''\n",
    "Q1. What is Statistics?\n",
    "Ans. Statistics is the science concerned with developing and studying methods for collecting,\n",
    "     analyzing, interpreting and presenting empirical data.\n",
    "'''"
   ]
  },
  {
   "cell_type": "code",
   "execution_count": null,
   "id": "2690338b-3a59-44d1-ab3d-80d3d8bee746",
   "metadata": {},
   "outputs": [],
   "source": [
    "'''\n",
    "Q2. Define the different types of statistics and give an example of when each type might be used.\n",
    "Ans. There are two types of statistics that are Descriptive and Infrential statistics.\n",
    "    Descriptive:- It consists of organising and summarising data. It \n",
    "    does measure of central tendency, dispersion, etc.\n",
    "    Inferential:- It consists of using data you have measured to form conclusion.\n",
    "'''    "
   ]
  },
  {
   "cell_type": "code",
   "execution_count": null,
   "id": "4e957a57-8fad-4e3f-8822-0837b2786e68",
   "metadata": {},
   "outputs": [],
   "source": [
    "'''\n",
    "Q3. What are the different types of data and how do they differ from each other? Provide an example of\n",
    "    each type of data.\n",
    "Ans.There are basically 2 types of datas, Quantitative and Qualitative.\n",
    "    Quantitative basically is data about quantity measurement like numbers,\n",
    "    weight, height, temperature.\n",
    "    Qualitative usually deals with characteristics type of data like good, bad, gender.\n",
    "'''    \n"
   ]
  },
  {
   "cell_type": "code",
   "execution_count": null,
   "id": "03a81e74-c747-4517-b37c-d7fb032b125b",
   "metadata": {},
   "outputs": [],
   "source": [
    "'''\n",
    "Q4. Categorise the following datasets with respect to quantitative and qualitative data types:\n",
    "(i) Grading in exam: A+, A, B+, B, C+, C, D, E :- Quantitative\n",
    "(ii) Colour of mangoes: yellow, green, orange, red:- Qualitative\n",
    "(iii) Height data of a class: [178.9, 179, 179.5, 176, 177.2, 178.3, 175.8,...]:- Quantitative\n",
    "(iv) Number of mangoes exported by a farm: [500, 600, 478, 672, ...]:- Quantitative\n",
    "'''"
   ]
  },
  {
   "cell_type": "code",
   "execution_count": null,
   "id": "e2f39e06-2637-483c-99e7-cc2195d27c66",
   "metadata": {},
   "outputs": [],
   "source": [
    "'''\n",
    "Q5. Explain the concept of levels of measurement and give an example of a variable for each level.\n",
    "Ans:- 1. Nominal Scale, Ordinal Scale, Interval scale, ratio scale.\n",
    "'''"
   ]
  },
  {
   "cell_type": "code",
   "execution_count": null,
   "id": "03f25ad9-932e-4d15-ae04-9db9fd9dbd9f",
   "metadata": {
    "tags": []
   },
   "outputs": [],
   "source": [
    "'''\n",
    "Q7. How nominal data type is different from ordinal data type.\n",
    "Ans. The main differences are order matters in ordinal but not in nominal\n",
    "     Ranking is also imp in ordinal not in nominal.\n",
    "'''"
   ]
  },
  {
   "cell_type": "code",
   "execution_count": null,
   "id": "c9742079-73d8-4c34-809e-fe5ea7e9b187",
   "metadata": {
    "tags": []
   },
   "outputs": [],
   "source": [
    "'''\n",
    "Q8. Which type of plot can be used to display data in terms of range?\n",
    "Ans. Histograms\n",
    "'''"
   ]
  },
  {
   "cell_type": "code",
   "execution_count": null,
   "id": "e1ffd74e-1593-4262-a218-74084437e25f",
   "metadata": {},
   "outputs": [],
   "source": [
    "'''\n",
    "Q9. Describe the difference between descriptive and inferential statistics. Give an example of each\n",
    "type of statistics and explain how they are used.\n",
    "Ans.  Descriptive:- It consists of organising and summarising data. It \n",
    "    does measure of central tendency, dispersion, etc.\n",
    "    Inferential:- It consists of using data you have measured to form conclusion.\n",
    "'''"
   ]
  },
  {
   "cell_type": "code",
   "execution_count": null,
   "id": "9148f446-46e0-4724-8540-d0afbae6aa91",
   "metadata": {},
   "outputs": [],
   "source": [
    "'''\n",
    "Q10. What are some common measures of central tendency and variability used in statistics? Explain\n",
    "how each measure can be used to describe a dataset.\n",
    "Ans. For central tendency it is mean, median, mode and for variablility it\n",
    "     it is sd, variance.\n",
    "'''"
   ]
  }
 ],
 "metadata": {
  "kernelspec": {
   "display_name": "Python 3 (ipykernel)",
   "language": "python",
   "name": "python3"
  },
  "language_info": {
   "codemirror_mode": {
    "name": "ipython",
    "version": 3
   },
   "file_extension": ".py",
   "mimetype": "text/x-python",
   "name": "python",
   "nbconvert_exporter": "python",
   "pygments_lexer": "ipython3",
   "version": "3.10.8"
  }
 },
 "nbformat": 4,
 "nbformat_minor": 5
}
