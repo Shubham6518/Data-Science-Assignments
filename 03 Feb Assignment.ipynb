{
 "cells": [
  {
   "cell_type": "code",
   "execution_count": 2,
   "id": "48d05964-353f-4e65-b289-e02f62f09d59",
   "metadata": {},
   "outputs": [],
   "source": [
    "#Q1\n",
    "''' We use 'def' keyword to define a function'''\n",
    "\n",
    "def odd():\n",
    "    l=[]\n",
    "    for i in range(1, 26):\n",
    "        if i%2!=0:\n",
    "            l.append(i)\n",
    "    print(l)"
   ]
  },
  {
   "cell_type": "code",
   "execution_count": 3,
   "id": "40d85081-d12f-4805-86f8-e102f6776e7e",
   "metadata": {},
   "outputs": [
    {
     "name": "stdout",
     "output_type": "stream",
     "text": [
      "[1, 3, 5, 7, 9, 11, 13, 15, 17, 19, 21, 23, 25]\n"
     ]
    }
   ],
   "source": [
    "odd()"
   ]
  },
  {
   "cell_type": "code",
   "execution_count": 7,
   "id": "f2c89860-c412-497e-b9d5-4936ee89aa25",
   "metadata": {},
   "outputs": [],
   "source": [
    "#Q2\n",
    "''' *args are used when while creating the function one is not sure of how many inputs to take.\n",
    "    Thus, there can be multiple inputs given while calling the function\n",
    "    \n",
    "    **kwargs is used when we want to take input as dictionary values dynamically\n",
    "'''\n",
    "\n",
    "def test1(*args):\n",
    "    print(\"test1 output:\", args)\n",
    "    \n",
    "def test2(**kwargs):\n",
    "    print('test2 output:', kwargs)"
   ]
  },
  {
   "cell_type": "code",
   "execution_count": 13,
   "id": "c8e35b3c-e2ab-47c8-bb94-749f96fb94f8",
   "metadata": {},
   "outputs": [
    {
     "name": "stdout",
     "output_type": "stream",
     "text": [
      "test1 output: (1, 2, 3, 4, 5, 6)\n",
      "test2 output: {'a': [1, 2, 3, 4], 'b': 'shubh', 'c': 12.45}\n"
     ]
    }
   ],
   "source": [
    "test1(1, 2, 3, 4, 5, 6)\n",
    "test2(a=[1, 2, 3,4 ], b=\"shubh\", c=12.45)"
   ]
  },
  {
   "cell_type": "code",
   "execution_count": 59,
   "id": "3e6b2b50-19ca-4ee7-8cea-3a51e03d3874",
   "metadata": {},
   "outputs": [
    {
     "name": "stdout",
     "output_type": "stream",
     "text": [
      "2\n",
      "4\n",
      "6\n",
      "8\n",
      "10\n"
     ]
    }
   ],
   "source": [
    "#Q3\n",
    "'''The iterator object is initialized using the iter() method. It uses the next() method for iteration'''\n",
    "\n",
    "l = [2, 4, 6, 8, 10, 12, 14, 16, 18, 20]\n",
    "l1 = iter(l)\n",
    "i=0\n",
    "\n",
    "for i in range(0, 5):\n",
    "    if i<=5:\n",
    "        print(next(l1))"
   ]
  },
  {
   "cell_type": "code",
   "execution_count": 70,
   "id": "ee8ef85d-6b4e-4b5c-9e87-330cf81c31ec",
   "metadata": {},
   "outputs": [
    {
     "name": "stdout",
     "output_type": "stream",
     "text": [
      "1\n",
      "3\n",
      "6\n",
      "10\n",
      "15\n",
      "21\n",
      "28\n",
      "36\n",
      "45\n",
      "55\n"
     ]
    }
   ],
   "source": [
    "#Q4\n",
    "''' Generator function is used when we want to iterate a lot of iterations and return but don't want to save it.\n",
    "    It helps in optimising the the memory utilisation.\n",
    "    Yield keyword is used to form an object for the generator function and return value to caller.\n",
    "'''\n",
    "\n",
    "def testgen(a):\n",
    "    s=1\n",
    "    c=0\n",
    "    while s<=a:\n",
    "        c+=s\n",
    "        s+=1\n",
    "        yield c\n",
    "for i in testgen(10):\n",
    "    print(i)"
   ]
  },
  {
   "cell_type": "code",
   "execution_count": 73,
   "id": "a82ef274-1950-4bb0-bd21-e666f3f4c518",
   "metadata": {},
   "outputs": [
    {
     "name": "stdout",
     "output_type": "stream",
     "text": [
      "0\n",
      "1\n",
      "1\n",
      "2\n",
      "3\n",
      "5\n",
      "8\n",
      "13\n",
      "21\n",
      "34\n"
     ]
    }
   ],
   "source": [
    "#Q6\n",
    "\n",
    "def fib(n):\n",
    "    a, b=0, 1\n",
    "    c=1\n",
    "    while c<=n:\n",
    "        print(a)\n",
    "        fib=a+b\n",
    "        a=b\n",
    "        b=fib\n",
    "        c+=1\n",
    "        \n",
    "fib(10)"
   ]
  },
  {
   "cell_type": "code",
   "execution_count": 77,
   "id": "ca304455-f076-4fb0-b883-875b9bc1e4a2",
   "metadata": {},
   "outputs": [
    {
     "data": {
      "text/plain": [
       "['p', 'w', 's', 'k', 'i', 'l', 'l', 's']"
      ]
     },
     "execution_count": 77,
     "metadata": {},
     "output_type": "execute_result"
    }
   ],
   "source": [
    "#Q7\n",
    "string= 'pwskills'\n",
    "l=[]\n",
    "[i for i in string]\n",
    "\n"
   ]
  },
  {
   "cell_type": "code",
   "execution_count": 87,
   "id": "40ecac47-4239-43a9-af2f-9f7585deb6b7",
   "metadata": {},
   "outputs": [
    {
     "name": "stdin",
     "output_type": "stream",
     "text": [
      "Enter a number 1234\n"
     ]
    },
    {
     "name": "stdout",
     "output_type": "stream",
     "text": [
      "1234  is not a palindrome.\n"
     ]
    }
   ],
   "source": [
    "#Q8\n",
    "a=input(\"Enter a number\")\n",
    "\n",
    "i, j=0, len(a)-1\n",
    "while i<=j:\n",
    "    if a[i]!=a[j]:\n",
    "        print(a, \" is not a palindrome.\")\n",
    "        break\n",
    "    i+=1\n",
    "    j-=1\n",
    "if i>j:\n",
    "    print(a, \" is a palindrome.\")"
   ]
  },
  {
   "cell_type": "code",
   "execution_count": 91,
   "id": "3354c835-d1c4-4d1f-8d28-1c230d8ad0e6",
   "metadata": {},
   "outputs": [
    {
     "data": {
      "text/plain": [
       "[1,\n",
       " 3,\n",
       " 5,\n",
       " 7,\n",
       " 9,\n",
       " 11,\n",
       " 13,\n",
       " 15,\n",
       " 17,\n",
       " 19,\n",
       " 21,\n",
       " 23,\n",
       " 25,\n",
       " 27,\n",
       " 29,\n",
       " 31,\n",
       " 33,\n",
       " 35,\n",
       " 37,\n",
       " 39,\n",
       " 41,\n",
       " 43,\n",
       " 45,\n",
       " 47,\n",
       " 49,\n",
       " 51,\n",
       " 53,\n",
       " 55,\n",
       " 57,\n",
       " 59,\n",
       " 61,\n",
       " 63,\n",
       " 65,\n",
       " 67,\n",
       " 69,\n",
       " 71,\n",
       " 73,\n",
       " 75,\n",
       " 77,\n",
       " 79,\n",
       " 81,\n",
       " 83,\n",
       " 85,\n",
       " 87,\n",
       " 89,\n",
       " 91,\n",
       " 93,\n",
       " 95,\n",
       " 97,\n",
       " 99]"
      ]
     },
     "execution_count": 91,
     "metadata": {},
     "output_type": "execute_result"
    }
   ],
   "source": [
    "# Q9\n",
    "[i for i in range(1, 101) if i%2!=0]\n"
   ]
  },
  {
   "cell_type": "code",
   "execution_count": null,
   "id": "2a6dc40d-eb2a-437c-bcb8-d63042b85ca3",
   "metadata": {},
   "outputs": [],
   "source": []
  },
  {
   "cell_type": "code",
   "execution_count": null,
   "id": "18beebc0-eb36-4a24-9248-15d753fb85f8",
   "metadata": {},
   "outputs": [],
   "source": []
  }
 ],
 "metadata": {
  "kernelspec": {
   "display_name": "Python 3 (ipykernel)",
   "language": "python",
   "name": "python3"
  },
  "language_info": {
   "codemirror_mode": {
    "name": "ipython",
    "version": 3
   },
   "file_extension": ".py",
   "mimetype": "text/x-python",
   "name": "python",
   "nbconvert_exporter": "python",
   "pygments_lexer": "ipython3",
   "version": "3.10.8"
  }
 },
 "nbformat": 4,
 "nbformat_minor": 5
}
