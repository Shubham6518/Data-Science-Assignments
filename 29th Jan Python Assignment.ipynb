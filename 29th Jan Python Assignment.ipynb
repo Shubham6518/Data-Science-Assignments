{
 "cells": [
  {
   "cell_type": "code",
   "execution_count": null,
   "id": "df8e3ac3-49b4-4061-b1ff-56183705f0a4",
   "metadata": {},
   "outputs": [],
   "source": [
    "'''\n",
    "Q1. Guido van Rossum was the developer of Python.\n",
    "Q2. Python supports object-oriented, functional as well as structured programming.\n",
    "Q3. Yes, Python is case sensitive when dealing with Identifiers.\n",
    "Q4. \".py\" extension is the most appropriate extension of Python file.\n",
    "Q5. The python code is Interpreted by the interpreter and is compiled and then interpreted by the Interpreter line by line.\n",
    "Q6. Some code blocks by name are:- a module, a function body.\n",
    "Q7. We use \"#\" to comment a line in python.\n",
    "Q8. One can execute \"python --version \" to check the current version of python in the machine.\n",
    "Q9. Python supports the creation of anonymous functions at runtime, using a construct called lambda. \n",
    "Q10. PIP stands for Preffered Installer Program\n",
    "Q11. few buitin functions in python are , pop(), insert(x, y), len(), etc.\n",
    "Q12. An identifier can have a maximum length of 79 characters in Python.\n",
    "Q13. Python programming language is a general-purpose, interpreted, and high-level language that mainly offers code readability\n",
    "     and has various applications in data science, ai, ml, web development.\n",
    "Q14. Memory management in Python involves a private heap that is managed by Python Memmory Manager.\n",
    "Q15. First we need to install python from its website then to set path variables. We can add Python to Path manually in Windows by opening the Control Panel and selecting System and Security. \n",
    "     Then choose System. Click Advanced System Settings.\n",
    "     Then click Environment Variables under the Advanced tab. \n",
    "     Under the System variables, select the Path variable and click Edit.\n",
    "Q16. Yes, python requires indentation.'''\n",
    "\n",
    "\n",
    "\n",
    "\n",
    "\n",
    "\n"
   ]
  },
  {
   "cell_type": "code",
   "execution_count": null,
   "id": "0c2a4fc5-4489-40b3-8df8-cb6e75befc73",
   "metadata": {},
   "outputs": [],
   "source": []
  }
 ],
 "metadata": {
  "kernelspec": {
   "display_name": "Python 3 (ipykernel)",
   "language": "python",
   "name": "python3"
  },
  "language_info": {
   "codemirror_mode": {
    "name": "ipython",
    "version": 3
   },
   "file_extension": ".py",
   "mimetype": "text/x-python",
   "name": "python",
   "nbconvert_exporter": "python",
   "pygments_lexer": "ipython3",
   "version": "3.10.8"
  }
 },
 "nbformat": 4,
 "nbformat_minor": 5
}
