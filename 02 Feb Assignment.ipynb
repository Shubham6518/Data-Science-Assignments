{
 "cells": [
  {
   "cell_type": "code",
   "execution_count": 1,
   "id": "1649dd3c-cba8-4bf4-8f9f-a3190266bb5b",
   "metadata": {},
   "outputs": [
    {
     "data": {
      "text/plain": [
       "\"\\nQ1. We use While loop when we don't know the number of iterations to perform in a loop\\nEg:- We use the while loop until the condition becomes false until then let th loop continue.\\nWhere as for loop is use when we know how many times the loop will repeat before itself.\\nEg:- For printing the table of a number for multiplication upto 10. Here we know the loop will repeat for 10 times.\\n\""
      ]
     },
     "execution_count": 1,
     "metadata": {},
     "output_type": "execute_result"
    }
   ],
   "source": [
    "'''\n",
    "Q1. We use While loop when we don't know the number of iterations to perform in a loop\n",
    "Eg:- We use the while loop until the condition becomes false until then let th loop continue.\n",
    "Where as for loop is use when we know how many times the loop will repeat before itself.\n",
    "Eg:- For printing the table of a number for multiplication upto 10. Here we know the loop will repeat for 10 times.\n",
    "'''"
   ]
  },
  {
   "cell_type": "code",
   "execution_count": 8,
   "id": "b27fef66-0802-4b1f-87ea-2dc276645137",
   "metadata": {},
   "outputs": [
    {
     "name": "stdout",
     "output_type": "stream",
     "text": [
      "The sum is: 55\n",
      "The product is: 3628800\n"
     ]
    }
   ],
   "source": [
    "#Q2\n",
    "i=1\n",
    "sum, product = 0, 1\n",
    "while i<=10:\n",
    "    sum+=i\n",
    "    product*=i\n",
    "    i+=1\n",
    "print(\"The sum is:\", sum)\n",
    "print(\"The product is:\", product)"
   ]
  },
  {
   "cell_type": "code",
   "execution_count": 9,
   "id": "6afc03d1-6ab8-4034-9d84-0d925f8d6613",
   "metadata": {},
   "outputs": [
    {
     "name": "stdin",
     "output_type": "stream",
     "text": [
      "Enter the total number of units:  310\n"
     ]
    },
    {
     "name": "stdout",
     "output_type": "stream",
     "text": [
      "The total Bill to Pay is : 2250\n"
     ]
    }
   ],
   "source": [
    "#Q3\n",
    "units = int(input(\"Enter the total number of units: \"))\n",
    "sum=0\n",
    "if(units>300):\n",
    "    sum = 2050 + (units-300)*20\n",
    "elif(units>200):\n",
    "    sum = 1050 + (units-200)*10\n",
    "elif(units>100):\n",
    "    sum = 450 + (units-100)*6\n",
    "elif(units<=100):\n",
    "    sum = units*4.5\n",
    "print(\"The total Bill to Pay is :\", sum)"
   ]
  },
  {
   "cell_type": "code",
   "execution_count": 12,
   "id": "00684d89-b5aa-4cc5-8b90-6ae6b3ec161c",
   "metadata": {},
   "outputs": [
    {
     "name": "stdout",
     "output_type": "stream",
     "text": [
      "[2, 4, 5, 6, 8, 10, 12, 14, 15, 16, 18, 20, 22, 24, 25, 26, 28, 30, 32, 34, 35, 36, 38, 40, 42, 44, 45, 46, 48, 50, 52, 54, 55, 56, 58, 60, 62, 64, 65, 66, 68, 70, 72, 74, 75, 76, 78, 80, 82, 84, 85, 86, 88, 90, 92, 94, 95, 96, 98, 100]\n"
     ]
    }
   ],
   "source": [
    "#Q4\n",
    "# Using while\n",
    "l=[]\n",
    "i=1\n",
    "while i<=100:\n",
    "    j = i**3\n",
    "    if(j%4==0 or j%5==0):\n",
    "        l.append(i)\n",
    "    i+=1\n",
    "print(l)"
   ]
  },
  {
   "cell_type": "code",
   "execution_count": 16,
   "id": "b55e1870-4d7f-41ad-a8d2-61d6ad66a2bb",
   "metadata": {},
   "outputs": [
    {
     "name": "stdout",
     "output_type": "stream",
     "text": [
      "[2, 4, 5, 6, 8, 10, 12, 14, 15, 16, 18, 20, 22, 24, 25, 26, 28, 30, 32, 34, 35, 36, 38, 40, 42, 44, 45, 46, 48, 50, 52, 54, 55, 56, 58, 60, 62, 64, 65, 66, 68, 70, 72, 74, 75, 76, 78, 80, 82, 84, 85, 86, 88, 90, 92, 94, 95, 96, 98, 100]\n"
     ]
    }
   ],
   "source": [
    "#Q4\n",
    "# Using for loop\n",
    "l=[]\n",
    "for i in range(1, 101):\n",
    "    j = i**3\n",
    "    if(j%4==0 or j%5==0):\n",
    "        l.append(i)\n",
    "    i+=1\n",
    "print(l)"
   ]
  },
  {
   "cell_type": "code",
   "execution_count": 4,
   "id": "c7b39de6-2cb4-48f1-991f-7a2aecd7659d",
   "metadata": {},
   "outputs": [
    {
     "name": "stdout",
     "output_type": "stream",
     "text": [
      "Total number of times vowels in string are: 12\n"
     ]
    }
   ],
   "source": [
    "#Q5\n",
    "vowel = set(\"aeiouAEIOU\")\n",
    "string = \"I want to become a data scientist\"\n",
    "count=0\n",
    "for i in string:\n",
    "    if i in vowel:\n",
    "        count+=1\n",
    "        \n",
    "print(\"Total number of times vowels in string are:\", count)"
   ]
  },
  {
   "cell_type": "code",
   "execution_count": null,
   "id": "692ef99e-9ab6-4aa9-90c0-015ce0109c49",
   "metadata": {},
   "outputs": [],
   "source": []
  }
 ],
 "metadata": {
  "kernelspec": {
   "display_name": "Python 3 (ipykernel)",
   "language": "python",
   "name": "python3"
  },
  "language_info": {
   "codemirror_mode": {
    "name": "ipython",
    "version": 3
   },
   "file_extension": ".py",
   "mimetype": "text/x-python",
   "name": "python",
   "nbconvert_exporter": "python",
   "pygments_lexer": "ipython3",
   "version": "3.10.8"
  }
 },
 "nbformat": 4,
 "nbformat_minor": 5
}
