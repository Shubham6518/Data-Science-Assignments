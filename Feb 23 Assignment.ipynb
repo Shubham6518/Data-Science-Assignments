{
 "cells": [
  {
   "cell_type": "code",
   "execution_count": 3,
   "id": "2c0b50c4-20a2-4bb5-8152-58323f073f74",
   "metadata": {},
   "outputs": [
    {
     "name": "stdout",
     "output_type": "stream",
     "text": [
      "0     4\n",
      "1     8\n",
      "2    15\n",
      "3    16\n",
      "4    23\n",
      "5    42\n",
      "dtype: int64\n"
     ]
    }
   ],
   "source": [
    "# Q1. Create a Pandas Series that contains the following data: 4, 8, 15, 16, 23, and 42. Then, print the series.\n",
    "\n",
    "import pandas as pd\n",
    "\n",
    "ans = pd.Series([4, 8, 15, 16, 23, 42])\n",
    "print(ans)"
   ]
  },
  {
   "cell_type": "code",
   "execution_count": 4,
   "id": "cfb160bd-d617-4c79-bbc0-85014ef98440",
   "metadata": {},
   "outputs": [
    {
     "name": "stdout",
     "output_type": "stream",
     "text": [
      "<class 'pandas.core.series.Series'>\n"
     ]
    }
   ],
   "source": [
    "# Q2. Create a variable of list type containing 10 elements in it, and apply pandas.Series function on the variable print it.\n",
    "\n",
    "import pandas as pd\n",
    "\n",
    "ans = ['Pandas', 2.12, ['python', 'lib', 'pd'], 5, 45, 32, 76, 100]\n",
    "df = pd.Series(ans)\n",
    "print(df)"
   ]
  },
  {
   "cell_type": "code",
   "execution_count": 11,
   "id": "8d4f05de-5916-49df-a997-9bfed2282f99",
   "metadata": {},
   "outputs": [],
   "source": [
    "# Q3. Create a Pandas DataFrame that contains the following data: Then, print the DataFrame.\n",
    "\n",
    "import pandas as pd\n",
    "import json\n",
    "url = ('https://drive.google.com/file/d/1c-JH0QloIirSUAxlYn2GUsoc8_tpJKMU/view')\n",
    "df = pd.read_json(url)"
   ]
  },
  {
   "cell_type": "code",
   "execution_count": 8,
   "id": "6a768c53-aa3e-41d9-940f-6aadc97ebf2b",
   "metadata": {},
   "outputs": [],
   "source": [
    "# Q4. What is ‘DataFrame’ in pandas and how is it different from pandas.series? Explain with an example.\n",
    "# Ans:- Series can only contain single list with index, whereas dataframe can be made of more than one series\n",
    "#       or we can say that a dataframe is a collection of series that can be used to analyse the data.\n",
    "#       Basically data frames are a colllection(list/Series) of series. "
   ]
  },
  {
   "cell_type": "code",
   "execution_count": 9,
   "id": "e51283d2-7ee2-4179-9a9d-3e8f928b9818",
   "metadata": {},
   "outputs": [],
   "source": [
    "# Q5. What are some common functions you can use to manipulate data in a Pandas DataFrame? \n",
    "#     Can you give an example of when you might use one of these functions?\n",
    "# Ans. Some of the commonly used data manipulation function in dataframes are append, add, insert, stack, \n",
    "#     unstack, etc.\n",
    "#     For eg:- We use append to drop row, columns.\n",
    "    \n",
    "    \n",
    "    "
   ]
  },
  {
   "cell_type": "code",
   "execution_count": 10,
   "id": "bc625a67-008a-487e-87e0-2a8e49899981",
   "metadata": {},
   "outputs": [],
   "source": [
    "# Q6. Which of the following is mutable in nature Series, DataFrame, Panel?\n",
    "# Ans. DataFrame as well as Panel are mutable in nature but not series ."
   ]
  },
  {
   "cell_type": "code",
   "execution_count": 24,
   "id": "e79b9ba1-eba2-47d7-853b-d882ca03a7db",
   "metadata": {},
   "outputs": [
    {
     "name": "stdout",
     "output_type": "stream",
     "text": [
      "   c1        c2\n",
      "0   1      Data\n",
      "1   2    Python\n",
      "2   3  Database\n"
     ]
    }
   ],
   "source": [
    "# Q7. Create a DataFrame using multiple Series. Explain with an example.\n",
    "\n",
    "import pandas as pd\n",
    "\n",
    "s1 = pd.Series([1, 2, 3])\n",
    "s2 = pd.Series(['Data', 'Python', 'Database'])\n",
    "df = pd.DataFrame({'c1':s1, 'c2':s2})\n",
    "print(df)\n"
   ]
  },
  {
   "cell_type": "code",
   "execution_count": null,
   "id": "38be8cec-58c4-4414-8e91-fd52d14233e2",
   "metadata": {},
   "outputs": [],
   "source": []
  }
 ],
 "metadata": {
  "kernelspec": {
   "display_name": "Python 3 (ipykernel)",
   "language": "python",
   "name": "python3"
  },
  "language_info": {
   "codemirror_mode": {
    "name": "ipython",
    "version": 3
   },
   "file_extension": ".py",
   "mimetype": "text/x-python",
   "name": "python",
   "nbconvert_exporter": "python",
   "pygments_lexer": "ipython3",
   "version": "3.10.8"
  }
 },
 "nbformat": 4,
 "nbformat_minor": 5
}
