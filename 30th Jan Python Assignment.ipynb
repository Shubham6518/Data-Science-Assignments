{
 "cells": [
  {
   "cell_type": "code",
   "execution_count": 1,
   "id": "6f5b530c-2564-457e-9141-772def237b0b",
   "metadata": {},
   "outputs": [
    {
     "name": "stdin",
     "output_type": "stream",
     "text": [
      "Enter marks :  123\n"
     ]
    },
    {
     "name": "stdout",
     "output_type": "stream",
     "text": [
      "Grade A\n"
     ]
    }
   ],
   "source": [
    "#Email : shubhamgupta6518@gmail.com\n",
    "# Q1 :\n",
    "marks = int(input(\"Enter marks : \"))\n",
    "if marks > 90:\n",
    "    print(\"Grade A\")\n",
    "elif marks > 80 and marks <=90:\n",
    "    print(\"Grade B\")\n",
    "elif marks >= 60 and marks <=80:\n",
    "    print(\"Grade C\")\n",
    "else :\n",
    "    print(\"Grade D\")"
   ]
  },
  {
   "cell_type": "code",
   "execution_count": null,
   "id": "01bb5bc6-8b1a-4b3f-bc63-f2693a5ca8e7",
   "metadata": {},
   "outputs": [],
   "source": [
    "# Q2 :\n",
    "tax = int(input(\"Enter price : \"))\n",
    "if tax > 100000:\n",
    "    print(\"15%\")\n",
    "elif tax > 50000 and marks <=100000:\n",
    "    print(\"10%\")\n",
    "else : \n",
    "    print(\"5%\")\n",
    "    "
   ]
  },
  {
   "cell_type": "code",
   "execution_count": null,
   "id": "4491b5bc-3d05-4151-8a9d-fc958caf7adc",
   "metadata": {},
   "outputs": [],
   "source": [
    "# Q3 :\n",
    "city = str(input(\"Enter city : \")).lower()\n",
    "if city == \"delhi\":\n",
    "    print(\"Red Fort\")\n",
    "elif city == \"agra\":\n",
    "    print(\"Taj Mahal\")\n",
    "elif city == \"jaipur\" : \n",
    "    print(\"Jal Mahal\")\n",
    "else :\n",
    "    print(\"Not known\")"
   ]
  },
  {
   "cell_type": "code",
   "execution_count": null,
   "id": "36915696-8007-4058-b098-9df59f548c17",
   "metadata": {},
   "outputs": [],
   "source": [
    "# Q4 :\n",
    "n = int(input(\"Enter number : \"))\n",
    "count = 0;\n",
    "while (n >= 10):\n",
    "    n = n/3\n",
    "    count += 1\n",
    "print(\"Ans : \",count)"
   ]
  },
  {
   "cell_type": "code",
   "execution_count": 4,
   "id": "35909cd6-92a0-41d0-8210-23f5771c8911",
   "metadata": {},
   "outputs": [
    {
     "data": {
      "text/plain": [
       "\"In python we use while loop, when we previously don't know how many times the loop will actually run.\""
      ]
     },
     "execution_count": 4,
     "metadata": {},
     "output_type": "execute_result"
    }
   ],
   "source": [
    "#Q5 :\n",
    "'''In python we use while loop, when we previously don't know how many times the loop will actually run.'''"
   ]
  },
  {
   "cell_type": "code",
   "execution_count": 9,
   "id": "79a901b5-8001-4026-8985-82ab74e72bc9",
   "metadata": {},
   "outputs": [
    {
     "name": "stdout",
     "output_type": "stream",
     "text": [
      "['*', '*', '*', '*', '*']\n",
      "['*', '*', '*', '*']\n",
      "['*', '*', '*']\n",
      "['*', '*']\n",
      "['*']\n"
     ]
    }
   ],
   "source": [
    "#Q6 :\n",
    "# Pattern 1\n",
    "i=5\n",
    "j=0\n",
    "while i>0:\n",
    "    j=i\n",
    "    l1=[]\n",
    "    while j>0:\n",
    "        l1.append(\"*\")\n",
    "        j-=1\n",
    "    print(l1) \n",
    "    i-=1\n",
    "    \n"
   ]
  },
  {
   "cell_type": "code",
   "execution_count": 17,
   "id": "8a69e7b2-0c9d-49d1-8450-2348226380ec",
   "metadata": {},
   "outputs": [
    {
     "name": "stdout",
     "output_type": "stream",
     "text": [
      "['*']\n",
      "['*', '*']\n",
      "['*', '*', '*']\n",
      "['*', '*', '*', '*']\n",
      "['*', '*', '*', '*', '*']\n"
     ]
    }
   ],
   "source": [
    "#Pattern 2\n",
    "\n",
    "i=0\n",
    "j=0\n",
    "while i<5:\n",
    "    j=0\n",
    "    l1=[]\n",
    "    while j<i+1:\n",
    "        l1.append(\"*\")\n",
    "        j+=1\n",
    "    print(l1) \n",
    "    i+=1"
   ]
  },
  {
   "cell_type": "code",
   "execution_count": 25,
   "id": "dd487510-cf49-4673-83a4-5f32aa3e3c65",
   "metadata": {},
   "outputs": [
    {
     "name": "stdout",
     "output_type": "stream",
     "text": [
      "[0, 0, 0, 0, 0, 1]\n",
      "[0, 0, 0, 0, 1, 2]\n",
      "[0, 0, 0, 1, 2, 3]\n",
      "[0, 0, 1, 2, 3, 4]\n",
      "[0, 1, 2, 3, 4, 5]\n",
      "[1, 2, 3, 4, 5, 6]\n"
     ]
    }
   ],
   "source": [
    "# Pattern 3\n",
    "i=0\n",
    "l1=[0,0,0,0,0,0]\n",
    "while i<6:\n",
    "    j=5-i\n",
    "    k=5\n",
    "    while k>=j:\n",
    "        l1[k]+=1\n",
    "        k-=1\n",
    "    print(l1) \n",
    "    i+=1"
   ]
  },
  {
   "cell_type": "code",
   "execution_count": 27,
   "id": "d462d4e3-e663-476f-9195-c6e1fce9d40d",
   "metadata": {},
   "outputs": [
    {
     "name": "stdout",
     "output_type": "stream",
     "text": [
      "10\n",
      "9\n",
      "8\n",
      "7\n",
      "6\n",
      "5\n",
      "4\n",
      "3\n",
      "2\n",
      "1\n"
     ]
    }
   ],
   "source": [
    "# Q7=Q8 :\n",
    "i=10\n",
    "while i>0:\n",
    "    print(i)\n",
    "    i-=1"
   ]
  },
  {
   "cell_type": "code",
   "execution_count": null,
   "id": "59a1cc0b-96f1-4429-87f0-27b8a886189c",
   "metadata": {},
   "outputs": [],
   "source": []
  }
 ],
 "metadata": {
  "kernelspec": {
   "display_name": "Python 3 (ipykernel)",
   "language": "python",
   "name": "python3"
  },
  "language_info": {
   "codemirror_mode": {
    "name": "ipython",
    "version": 3
   },
   "file_extension": ".py",
   "mimetype": "text/x-python",
   "name": "python",
   "nbconvert_exporter": "python",
   "pygments_lexer": "ipython3",
   "version": "3.10.8"
  }
 },
 "nbformat": 4,
 "nbformat_minor": 5
}
