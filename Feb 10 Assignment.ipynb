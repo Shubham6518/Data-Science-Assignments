{
 "cells": [
  {
   "cell_type": "code",
   "execution_count": 1,
   "id": "4b744c87-9346-438c-ae6b-7840bd64fb23",
   "metadata": {},
   "outputs": [
    {
     "data": {
      "text/plain": [
       "\"\\nQ1. Which function is used to open a file? What are the different modes of opening a file? Explain each mode\\nof file opening.\\nAns. In python we use open method to open files. Files can be open in 2 modes that are read and write mode.\\n     Write mode:- This mode is used as \\n         f =  open('file.txt', 'w')\\n    It can be used to overwrite the in the file that already exists or here if file does not exists with this name it creates\\n    one and writes down into it.\\n    \\n    Read mode:- This mode is used as\\n        f = open('file.txt', 'r')\\n    It can be used to get the data that is in the file. It can only return data if the file is present else it returns \\n    FileNotFound Error if the file does not exist.\\n\\n\\n\""
      ]
     },
     "execution_count": 1,
     "metadata": {},
     "output_type": "execute_result"
    }
   ],
   "source": [
    "'''\n",
    "Q1. Which function is used to open a file? What are the different modes of opening a file? Explain each mode\n",
    "of file opening.\n",
    "Ans. In python we use open method to open files. Files can be open in 2 modes that are read and write mode.\n",
    "     Write mode:- This mode is used as \n",
    "         f =  open('file.txt', 'w')\n",
    "    It can be used to overwrite the in the file that already exists or here if file does not exists with this name it creates\n",
    "    one and writes down into it.\n",
    "    \n",
    "    Read mode:- This mode is used as\n",
    "        f = open('file.txt', 'r')\n",
    "    It can be used to get the data that is in the file. It can only return data if the file is present else it returns \n",
    "    FileNotFound Error if the file does not exist.\n",
    "\n",
    "\n",
    "'''"
   ]
  },
  {
   "cell_type": "code",
   "execution_count": 2,
   "id": "7eae3192-4cd1-4c73-918f-d8ee0f14e7fe",
   "metadata": {},
   "outputs": [
    {
     "data": {
      "text/plain": [
       "'\\nQ2. Why close() function is used? Why is it important to close a file?\\nAns. The close() method is used to flush and close an open file, it is required to close an open file after performing the \\n     input output operations, as sometimes due to buffering the changes may not be shown, but using close() resolves it.\\n'"
      ]
     },
     "execution_count": 2,
     "metadata": {},
     "output_type": "execute_result"
    }
   ],
   "source": [
    "'''\n",
    "Q2. Why close() function is used? Why is it important to close a file?\n",
    "Ans. The close() method is used to flush and close an open file, it is required to close an open file after performing the \n",
    "     input output operations, as sometimes due to buffering the changes may not be shown, but using close() resolves it.\n",
    "'''"
   ]
  },
  {
   "cell_type": "code",
   "execution_count": 11,
   "id": "60eb0e05-543c-42ad-881d-9ba10d96e57a",
   "metadata": {},
   "outputs": [
    {
     "name": "stdout",
     "output_type": "stream",
     "text": [
      "I want to become a Data Scientist\n"
     ]
    }
   ],
   "source": [
    "'''\n",
    "Q3. Write a python program to create a text file. Write ‘I want to become a Data Scientist’ in that file. Then\n",
    "close the file. Open this file and read the content of the file.\n",
    "'''\n",
    "\n",
    "def wtest(file):\n",
    "    f = open(file, 'w')\n",
    "    f.write('I want to become a Data Scientist')\n",
    "    f.close()\n",
    "    \n",
    "def rtest(file):\n",
    "    f = open(file, 'r')\n",
    "    print(f.read())\n",
    "    \n",
    "wtest('assignmentfile.txt')\n",
    "rtest('assignmentfile.txt')\n",
    "    \n",
    "\n"
   ]
  },
  {
   "cell_type": "code",
   "execution_count": 41,
   "id": "b8a2ffbb-980a-498a-87f8-962025f1b5bb",
   "metadata": {},
   "outputs": [
    {
     "name": "stdout",
     "output_type": "stream",
     "text": [
      "For read:-\n",
      "I want to become a Data Scientist\n",
      "This is using append\n",
      "This is using append\n",
      "This is using append\n",
      "This is using append\n",
      "This is using append\n",
      "For readline:-\n",
      "I want to become a Data Scientist\n",
      "\n",
      "For readlines:-\n",
      "['I want to become a Data Scientist\\n', 'This is using append\\n', 'This is using append\\n', 'This is using append\\n', 'This is using append\\n', 'This is using append']\n"
     ]
    }
   ],
   "source": [
    "'''\n",
    "Q4. Explain the following with python code: read(), readline() and readlines().\n",
    "Ans. read:- This reads the file data.\n",
    "     readline:- This read single line.\n",
    "     readlines:- This reads multiple lines.\n",
    "'''\n",
    "\n",
    "f = open('assignment.txt', 'a')\n",
    "f.write(\"\\nThis is using append\")\n",
    "f.close()\n",
    "\n",
    "f = open('assignment.txt', 'r')\n",
    "\n",
    "print('For read:-')\n",
    "print(f.read())\n",
    "f.seek(0)\n",
    "print('For readline:-')\n",
    "print(f.readline())\n",
    "print(\"For readlines:-\")\n",
    "f.seek(0)\n",
    "print(f.readlines())\n",
    "f.close()"
   ]
  },
  {
   "cell_type": "code",
   "execution_count": 42,
   "id": "29fbef6e-9a37-4606-9433-efac7cafcedb",
   "metadata": {},
   "outputs": [
    {
     "data": {
      "text/plain": [
       "'\\nQ5. Explain why with statement is used with open(). What is the advantage of using with statement and\\nopen() together?\\nAns. In Python, with statement is used in exception handling to make the code cleaner and much more readable.\\n     It simplifies the management of common resources like file streams. \\n     \\n     It also ensures proper execution like it closes the file by itself, thus reduces the chances of bug.\\n'"
      ]
     },
     "execution_count": 42,
     "metadata": {},
     "output_type": "execute_result"
    }
   ],
   "source": [
    "'''\n",
    "Q5. Explain why with statement is used with open(). What is the advantage of using with statement and\n",
    "open() together?\n",
    "Ans. In Python, with statement is used in exception handling to make the code cleaner and much more readable.\n",
    "     It simplifies the management of common resources like file streams. \n",
    "     \n",
    "     It also ensures proper execution like it closes the file by itself, thus reduces the chances of bug.\n",
    "'''"
   ]
  },
  {
   "cell_type": "code",
   "execution_count": 43,
   "id": "1712a901-b2c2-45c6-8cb0-96ceaa2ef410",
   "metadata": {},
   "outputs": [
    {
     "data": {
      "text/plain": [
       "'\\nQ6. Explain the write() and writelines() functions. Give a suitable example.\\nAns. The only difference between the write() and writelines() is that write() is used \\n     to write a string to an already opened file while writelines() method is used to write a list of strings in an opened file.\\n'"
      ]
     },
     "execution_count": 43,
     "metadata": {},
     "output_type": "execute_result"
    }
   ],
   "source": [
    "'''\n",
    "Q6. Explain the write() and writelines() functions. Give a suitable example.\n",
    "Ans. The only difference between the write() and writelines() is that write() is used \n",
    "     to write a string to an already opened file while writelines() method is used to write a list of strings in an opened file.\n",
    "'''"
   ]
  }
 ],
 "metadata": {
  "kernelspec": {
   "display_name": "Python 3 (ipykernel)",
   "language": "python",
   "name": "python3"
  },
  "language_info": {
   "codemirror_mode": {
    "name": "ipython",
    "version": 3
   },
   "file_extension": ".py",
   "mimetype": "text/x-python",
   "name": "python",
   "nbconvert_exporter": "python",
   "pygments_lexer": "ipython3",
   "version": "3.10.8"
  }
 },
 "nbformat": 4,
 "nbformat_minor": 5
}
